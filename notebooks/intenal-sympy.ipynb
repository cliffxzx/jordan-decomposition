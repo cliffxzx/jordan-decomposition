{
 "cells": [
  {
   "cell_type": "code",
   "execution_count": 1,
   "metadata": {},
   "outputs": [
    {
     "name": "stdout",
     "output_type": "stream",
     "text": [
      "Diagonal matrix:\n"
     ]
    },
    {
     "data": {
      "text/latex": [
       "$\\displaystyle \\left[\\begin{matrix}0 & -1 & 0 & 1 & -1 & -1 & \\frac{1}{11} & - \\frac{3}{11}\\\\0 & 0 & 0 & 0 & 1 & 0 & - \\frac{4}{11} & \\frac{1}{11}\\\\0 & 0 & 0 & -1 & 0 & 2 & \\frac{4}{11} & - \\frac{1}{11}\\\\1 & 1 & 0 & -1 & 1 & 1 & - \\frac{4}{11} & \\frac{1}{11}\\\\0 & 1 & 0 & 0 & -1 & 0 & \\frac{5}{11} & - \\frac{4}{11}\\\\0 & 0 & 1 & -1 & 1 & 0 & - \\frac{7}{11} & \\frac{10}{11}\\\\-1 & 0 & 0 & 0 & -1 & 0 & 1 & 0\\\\0 & 1 & 0 & -1 & 0 & 0 & 0 & 1\\end{matrix}\\right]$"
      ],
      "text/plain": [
       "Matrix([\n",
       "[ 0, -1, 0,  1, -1, -1,  1/11, -3/11],\n",
       "[ 0,  0, 0,  0,  1,  0, -4/11,  1/11],\n",
       "[ 0,  0, 0, -1,  0,  2,  4/11, -1/11],\n",
       "[ 1,  1, 0, -1,  1,  1, -4/11,  1/11],\n",
       "[ 0,  1, 0,  0, -1,  0,  5/11, -4/11],\n",
       "[ 0,  0, 1, -1,  1,  0, -7/11, 10/11],\n",
       "[-1,  0, 0,  0, -1,  0,     1,     0],\n",
       "[ 0,  1, 0, -1,  0,  0,     0,     1]])"
      ]
     },
     "metadata": {},
     "output_type": "display_data"
    },
    {
     "name": "stdout",
     "output_type": "stream",
     "text": [
      "Nilpotent matrix:\n"
     ]
    },
    {
     "data": {
      "text/latex": [
       "$\\displaystyle \\left[\\begin{matrix}-1 & 1 & 0 & 0 & 0 & 0 & 0 & 0\\\\0 & -1 & 0 & 0 & 0 & 0 & 0 & 0\\\\0 & 0 & -1 & 0 & 0 & 0 & 0 & 0\\\\0 & 0 & 0 & 0 & 1 & 0 & 0 & 0\\\\0 & 0 & 0 & 0 & 0 & 1 & 0 & 0\\\\0 & 0 & 0 & 0 & 0 & 0 & 0 & 0\\\\0 & 0 & 0 & 0 & 0 & 0 & 1 & 0\\\\0 & 0 & 0 & 0 & 0 & 0 & 0 & 1\\end{matrix}\\right]$"
      ],
      "text/plain": [
       "Matrix([\n",
       "[-1,  1,  0, 0, 0, 0, 0, 0],\n",
       "[ 0, -1,  0, 0, 0, 0, 0, 0],\n",
       "[ 0,  0, -1, 0, 0, 0, 0, 0],\n",
       "[ 0,  0,  0, 0, 1, 0, 0, 0],\n",
       "[ 0,  0,  0, 0, 0, 1, 0, 0],\n",
       "[ 0,  0,  0, 0, 0, 0, 0, 0],\n",
       "[ 0,  0,  0, 0, 0, 0, 1, 0],\n",
       "[ 0,  0,  0, 0, 0, 0, 0, 1]])"
      ]
     },
     "metadata": {},
     "output_type": "display_data"
    },
    {
     "data": {
      "text/latex": [
       "$\\displaystyle \\left[\\begin{matrix}-4 & -5 & -3 & 1 & -2 & 0 & 1 & -2\\\\4 & 7 & 3 & -1 & 3 & 0 & -1 & 2\\\\0 & -1 & 0 & 0 & 0 & 0 & 0 & 0\\\\-1 & 1 & 2 & -4 & 2 & 0 & -3 & 1\\\\-8 & -14 & -5 & 1 & -6 & 0 & 1 & -4\\\\4 & 7 & 4 & -3 & 3 & -1 & -3 & 4\\\\2 & -2 & -2 & 5 & -3 & 0 & 4 & -1\\\\6 & 7 & 3 & 0 & 2 & 0 & 0 & 3\\end{matrix}\\right]$"
      ],
      "text/plain": [
       "Matrix([\n",
       "[-4,  -5, -3,  1, -2,  0,  1, -2],\n",
       "[ 4,   7,  3, -1,  3,  0, -1,  2],\n",
       "[ 0,  -1,  0,  0,  0,  0,  0,  0],\n",
       "[-1,   1,  2, -4,  2,  0, -3,  1],\n",
       "[-8, -14, -5,  1, -6,  0,  1, -4],\n",
       "[ 4,   7,  4, -3,  3, -1, -3,  4],\n",
       "[ 2,  -2, -2,  5, -3,  0,  4, -1],\n",
       "[ 6,   7,  3,  0,  2,  0,  0,  3]])"
      ]
     },
     "metadata": {},
     "output_type": "display_data"
    }
   ],
   "source": [
    "from sympy import *\n",
    "\n",
    "A = Matrix([\n",
    "    [-4, -5, -3, 1, -2, 0, 1, -2],\n",
    "    [4, 7, 3, -1, 3, 0, -1, 2],\n",
    "    [0, -1, 0, 0, 0, 0, 0, 0],\n",
    "    [-1, 1, 2, -4, 2, 0, -3, 1],\n",
    "    [-8, -14, -5, 1, -6, 0, 1, -4],\n",
    "    [4, 7, 4, -3, 3, -1, -3, 4],\n",
    "    [2, -2, -2, 5, -3, 0, 4, -1],\n",
    "    [6, 7, 3, 0, 2, 0, 0, 3]])\n",
    "\n",
    "D, J = A.jordan_form()\n",
    "\n",
    "# Print the diagonal matrix and the nilpotent matrix\n",
    "print(\"Diagonal matrix:\")\n",
    "display(D)\n",
    "print(\"Nilpotent matrix:\")\n",
    "display(J)\n",
    "\n",
    "display(D*J*D.inv())"
   ]
  }
 ],
 "metadata": {
  "kernelspec": {
   "display_name": "jordan-decomposition-1FTfkCrW",
   "language": "python",
   "name": "python3"
  },
  "language_info": {
   "codemirror_mode": {
    "name": "ipython",
    "version": 3
   },
   "file_extension": ".py",
   "mimetype": "text/x-python",
   "name": "python",
   "nbconvert_exporter": "python",
   "pygments_lexer": "ipython3",
   "version": "3.11.0"
  },
  "orig_nbformat": 4
 },
 "nbformat": 4,
 "nbformat_minor": 2
}
