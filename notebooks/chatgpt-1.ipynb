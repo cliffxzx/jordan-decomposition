{
 "cells": [
  {
   "cell_type": "code",
   "execution_count": 7,
   "metadata": {},
   "outputs": [],
   "source": [
    "# notebook setup\n",
    "import sys\n",
    "sys.path += ['../']"
   ]
  },
  {
   "cell_type": "code",
   "execution_count": 4,
   "metadata": {},
   "outputs": [
    {
     "name": "stderr",
     "output_type": "stream",
     "text": [
      "/tmp/ipykernel_2656356/3092158449.py:13: UserWarning: Explicitly requested dtype float64 requested in full is not available, and will be truncated to dtype float32. To enable more dtypes, set the jax_enable_x64 configuration option or the JAX_ENABLE_X64 shell environment variable. See https://github.com/google/jax#current-gotchas for more.\n",
      "  diag_block = np.full(n, l, dtype='float64')\n",
      "/home/cliff/.local/share/virtualenvs/jordan-decomposition-1FTfkCrW/lib/python3.11/site-packages/jax/_src/lax/lax.py:1189: ComplexWarning: Casting complex values to real discards the imaginary part\n",
      "  fill_value = _convert_element_type(fill_value, dtype, weak_type)\n",
      "/tmp/ipykernel_2656356/3092158449.py:14: UserWarning: Explicitly requested dtype float64 requested in eye is not available, and will be truncated to dtype float32. To enable more dtypes, set the jax_enable_x64 configuration option or the JAX_ENABLE_X64 shell environment variable. See https://github.com/google/jax#current-gotchas for more.\n",
      "  off_diag_block = np.eye(n, k=1, dtype='float64')[:-1, :]\n"
     ]
    },
    {
     "ename": "TypeError",
     "evalue": "add got incompatible shapes for broadcasting: (8, 8), (0, 8).",
     "output_type": "error",
     "traceback": [
      "\u001b[0;31m---------------------------------------------------------------------------\u001b[0m",
      "\u001b[0;31mTypeError\u001b[0m                                 Traceback (most recent call last)",
      "Cell \u001b[0;32mIn[4], line 63\u001b[0m\n\u001b[1;32m     52\u001b[0m \u001b[39m# Testing the code with a sample input\u001b[39;00m\n\u001b[1;32m     53\u001b[0m x \u001b[39m=\u001b[39m np\u001b[39m.\u001b[39marray([\n\u001b[1;32m     54\u001b[0m     [\u001b[39m-\u001b[39m\u001b[39m4\u001b[39m, \u001b[39m-\u001b[39m\u001b[39m5\u001b[39m, \u001b[39m-\u001b[39m\u001b[39m3\u001b[39m, \u001b[39m1\u001b[39m, \u001b[39m-\u001b[39m\u001b[39m2\u001b[39m, \u001b[39m0\u001b[39m, \u001b[39m1\u001b[39m, \u001b[39m-\u001b[39m\u001b[39m2\u001b[39m],\n\u001b[1;32m     55\u001b[0m     [\u001b[39m4\u001b[39m, \u001b[39m7\u001b[39m, \u001b[39m3\u001b[39m, \u001b[39m-\u001b[39m\u001b[39m1\u001b[39m, \u001b[39m3\u001b[39m, \u001b[39m0\u001b[39m, \u001b[39m-\u001b[39m\u001b[39m1\u001b[39m, \u001b[39m2\u001b[39m],\n\u001b[0;32m   (...)\u001b[0m\n\u001b[1;32m     60\u001b[0m     [\u001b[39m2\u001b[39m, \u001b[39m-\u001b[39m\u001b[39m2\u001b[39m, \u001b[39m-\u001b[39m\u001b[39m2\u001b[39m, \u001b[39m5\u001b[39m, \u001b[39m-\u001b[39m\u001b[39m3\u001b[39m, \u001b[39m0\u001b[39m, \u001b[39m4\u001b[39m, \u001b[39m-\u001b[39m\u001b[39m1\u001b[39m],\n\u001b[1;32m     61\u001b[0m     [\u001b[39m6\u001b[39m, \u001b[39m7\u001b[39m, \u001b[39m3\u001b[39m, \u001b[39m0\u001b[39m, \u001b[39m2\u001b[39m, \u001b[39m0\u001b[39m, \u001b[39m0\u001b[39m, \u001b[39m3\u001b[39m]])\n\u001b[0;32m---> 63\u001b[0m j, v \u001b[39m=\u001b[39m jordan_form(x)\n\u001b[1;32m     64\u001b[0m \u001b[39mprint\u001b[39m(\u001b[39m\"\u001b[39m\u001b[39mJordan form:\u001b[39m\u001b[39m\\n\u001b[39;00m\u001b[39m\"\u001b[39m, j)\n\u001b[1;32m     65\u001b[0m \u001b[39mprint\u001b[39m(\u001b[39m\"\u001b[39m\u001b[39mEigenvectors:\u001b[39m\u001b[39m\\n\u001b[39;00m\u001b[39m\"\u001b[39m, v)\n",
      "Cell \u001b[0;32mIn[4], line 49\u001b[0m, in \u001b[0;36mjordan_form\u001b[0;34m(x)\u001b[0m\n\u001b[1;32m     44\u001b[0m         off_diag \u001b[39m=\u001b[39m np\u001b[39m.\u001b[39mblock([[off_diag, \u001b[39mNone\u001b[39;00m],\n\u001b[1;32m     45\u001b[0m                              [\u001b[39mNone\u001b[39;00m, off_diag_blocks[i]]])\n\u001b[1;32m     46\u001b[0m     blocked_off_diag \u001b[39m=\u001b[39m np\u001b[39m.\u001b[39mblock([[np\u001b[39m.\u001b[39mzeros((off_diag\u001b[39m.\u001b[39mshape[\u001b[39m0\u001b[39m], j\u001b[39m.\u001b[39mshape[\u001b[39m1\u001b[39m] \u001b[39m-\u001b[39m off_diag\u001b[39m.\u001b[39mshape[\u001b[39m1\u001b[39m])),\n\u001b[1;32m     47\u001b[0m                                   off_diag],\n\u001b[1;32m     48\u001b[0m                                  [np\u001b[39m.\u001b[39mzeros((j\u001b[39m.\u001b[39mshape[\u001b[39m0\u001b[39m] \u001b[39m-\u001b[39m j\u001b[39m.\u001b[39mshape[\u001b[39m1\u001b[39m], j\u001b[39m.\u001b[39mshape[\u001b[39m1\u001b[39m]))]])\n\u001b[0;32m---> 49\u001b[0m     j \u001b[39m=\u001b[39m j \u001b[39m+\u001b[39;49m blocked_off_diag\n\u001b[1;32m     50\u001b[0m \u001b[39mreturn\u001b[39;00m j, eig_vecs\n",
      "File \u001b[0;32m~/.local/share/virtualenvs/jordan-decomposition-1FTfkCrW/lib/python3.11/site-packages/jax/_src/numpy/array_methods.py:251\u001b[0m, in \u001b[0;36m_defer_to_unrecognized_arg.<locals>.deferring_binary_op\u001b[0;34m(self, other)\u001b[0m\n\u001b[1;32m    249\u001b[0m args \u001b[39m=\u001b[39m (other, \u001b[39mself\u001b[39m) \u001b[39mif\u001b[39;00m swap \u001b[39melse\u001b[39;00m (\u001b[39mself\u001b[39m, other)\n\u001b[1;32m    250\u001b[0m \u001b[39mif\u001b[39;00m \u001b[39misinstance\u001b[39m(other, _accepted_binop_types):\n\u001b[0;32m--> 251\u001b[0m   \u001b[39mreturn\u001b[39;00m binary_op(\u001b[39m*\u001b[39;49margs)\n\u001b[1;32m    252\u001b[0m \u001b[39mif\u001b[39;00m \u001b[39misinstance\u001b[39m(other, _rejected_binop_types):\n\u001b[1;32m    253\u001b[0m   \u001b[39mraise\u001b[39;00m \u001b[39mTypeError\u001b[39;00m(\u001b[39mf\u001b[39m\u001b[39m\"\u001b[39m\u001b[39munsupported operand type(s) for \u001b[39m\u001b[39m{\u001b[39;00mopchar\u001b[39m}\u001b[39;00m\u001b[39m: \u001b[39m\u001b[39m\"\u001b[39m\n\u001b[1;32m    254\u001b[0m                   \u001b[39mf\u001b[39m\u001b[39m\"\u001b[39m\u001b[39m{\u001b[39;00m\u001b[39mtype\u001b[39m(args[\u001b[39m0\u001b[39m])\u001b[39m.\u001b[39m\u001b[39m__name__\u001b[39m\u001b[39m!r}\u001b[39;00m\u001b[39m and \u001b[39m\u001b[39m{\u001b[39;00m\u001b[39mtype\u001b[39m(args[\u001b[39m1\u001b[39m])\u001b[39m.\u001b[39m\u001b[39m__name__\u001b[39m\u001b[39m!r}\u001b[39;00m\u001b[39m\"\u001b[39m)\n",
      "    \u001b[0;31m[... skipping hidden 12 frame]\u001b[0m\n",
      "File \u001b[0;32m~/.local/share/virtualenvs/jordan-decomposition-1FTfkCrW/lib/python3.11/site-packages/jax/_src/numpy/ufuncs.py:96\u001b[0m, in \u001b[0;36m_maybe_bool_binop.<locals>.fn\u001b[0;34m(x1, x2)\u001b[0m\n\u001b[1;32m     94\u001b[0m \u001b[39mdef\u001b[39;00m \u001b[39mfn\u001b[39m(x1, x2, \u001b[39m/\u001b[39m):\n\u001b[1;32m     95\u001b[0m   x1, x2 \u001b[39m=\u001b[39m promote_args(numpy_fn\u001b[39m.\u001b[39m\u001b[39m__name__\u001b[39m, x1, x2)\n\u001b[0;32m---> 96\u001b[0m   \u001b[39mreturn\u001b[39;00m lax_fn(x1, x2) \u001b[39mif\u001b[39;00m x1\u001b[39m.\u001b[39mdtype \u001b[39m!=\u001b[39m np\u001b[39m.\u001b[39mbool_ \u001b[39melse\u001b[39;00m bool_lax_fn(x1, x2)\n",
      "    \u001b[0;31m[... skipping hidden 7 frame]\u001b[0m\n",
      "File \u001b[0;32m~/.local/share/virtualenvs/jordan-decomposition-1FTfkCrW/lib/python3.11/site-packages/jax/_src/lax/lax.py:1558\u001b[0m, in \u001b[0;36mbroadcasting_shape_rule\u001b[0;34m(name, *avals)\u001b[0m\n\u001b[1;32m   1556\u001b[0m       result_shape\u001b[39m.\u001b[39mappend(non_1s[\u001b[39m0\u001b[39m])\n\u001b[1;32m   1557\u001b[0m     \u001b[39melse\u001b[39;00m:\n\u001b[0;32m-> 1558\u001b[0m       \u001b[39mraise\u001b[39;00m \u001b[39mTypeError\u001b[39;00m(\u001b[39mf\u001b[39m\u001b[39m'\u001b[39m\u001b[39m{\u001b[39;00mname\u001b[39m}\u001b[39;00m\u001b[39m got incompatible shapes for broadcasting: \u001b[39m\u001b[39m'\u001b[39m\n\u001b[1;32m   1559\u001b[0m                       \u001b[39mf\u001b[39m\u001b[39m'\u001b[39m\u001b[39m{\u001b[39;00m\u001b[39m\"\u001b[39m\u001b[39m, \u001b[39m\u001b[39m\"\u001b[39m\u001b[39m.\u001b[39mjoin(\u001b[39mmap\u001b[39m(\u001b[39mstr\u001b[39m,\u001b[39m \u001b[39m\u001b[39mmap\u001b[39m(\u001b[39mtuple\u001b[39m,\u001b[39m \u001b[39mshapes)))\u001b[39m}\u001b[39;00m\u001b[39m.\u001b[39m\u001b[39m'\u001b[39m)\n\u001b[1;32m   1561\u001b[0m \u001b[39mreturn\u001b[39;00m \u001b[39mtuple\u001b[39m(result_shape)\n",
      "\u001b[0;31mTypeError\u001b[0m: add got incompatible shapes for broadcasting: (8, 8), (0, 8)."
     ]
    }
   ],
   "source": [
    "import os\n",
    "os.environ[\"XLA_PYTHON_CLIENT_PREALLOCATE\"]=\"false\"\n",
    "os.environ[\"XLA_PYTHON_CLIENT_MEM_FRACTION\"]=\".XX\"\n",
    "os.environ[\"XLA_PYTHON_CLIENT_ALLOCATOR\"]=\"platform\"\n",
    "\n",
    "import jax.numpy as np\n",
    "import jax.scipy as jsp\n",
    "from jax import vmap, jit\n",
    "from jax.lax import scan\n",
    "\n",
    "def jordan_block(l, n):\n",
    "    # Compute a Jordan block for eigenvalue l of size n\n",
    "    diag_block = np.full(n, l, dtype='float64')\n",
    "    off_diag_block = np.eye(n, k=1, dtype='float64')[:-1, :]\n",
    "    return diag_block, off_diag_block\n",
    "\n",
    "def jordan_blocks(eig_vals, eig_vecs):\n",
    "    n = eig_vals.shape[0]\n",
    "    jordan_blocks = []\n",
    "    i = 0\n",
    "    while i < n:\n",
    "        block = jordan_block(eig_vals[i], 1)\n",
    "        if i < n - 1 and eig_vals[i] == eig_vals[i + 1]:\n",
    "            block_size = 1\n",
    "            while i + block_size < n and eig_vals[i + block_size] == eig_vals[i]:\n",
    "                block_size += 1\n",
    "            block = jordan_block(eig_vals[i], block_size)\n",
    "            i += block_size - 1\n",
    "        jordan_blocks.append(block)\n",
    "        i += 1\n",
    "    return jordan_blocks\n",
    "\n",
    "def jordan_form(x):\n",
    "    # Compute the Jordan form of a matrix\n",
    "    eig_vals, eig_vecs = np.linalg.eig(x)\n",
    "    j_blocks = jordan_blocks(eig_vals, eig_vecs)\n",
    "    diag_blocks = [block[0] for block in j_blocks]\n",
    "    off_diag_blocks = [block[1] for block in j_blocks]\n",
    "    j = jsp.linalg.block_diag(*diag_blocks)\n",
    "    for i in range(len(off_diag_blocks)):\n",
    "        if i == 0:\n",
    "            off_diag = off_diag_blocks[i]\n",
    "        else:\n",
    "            off_diag = np.block([[off_diag, None],\n",
    "                                 [None, off_diag_blocks[i]]])\n",
    "        blocked_off_diag = np.block([[np.zeros((off_diag.shape[0], j.shape[1] - off_diag.shape[1])),\n",
    "                                      off_diag],\n",
    "                                     [np.zeros((j.shape[0] - j.shape[1], j.shape[1]))]])\n",
    "        j = j + blocked_off_diag\n",
    "    return j, eig_vecs\n",
    "\n",
    "# Testing the code with a sample input\n",
    "x = np.array([\n",
    "    [-4, -5, -3, 1, -2, 0, 1, -2],\n",
    "    [4, 7, 3, -1, 3, 0, -1, 2],\n",
    "    [0, -1, 0, 0, 0, 0, 0, 0],\n",
    "    [-1, 1, 2, -4, 2, 0, -3, 1],\n",
    "    [-8, -14, -5, 1, -6, 0, 1, -4],\n",
    "    [4, 7, 4, -3, 3, -1, -3, 4],\n",
    "    [2, -2, -2, 5, -3, 0, 4, -1],\n",
    "    [6, 7, 3, 0, 2, 0, 0, 3]])\n",
    "\n",
    "j, v = jordan_form(x)\n",
    "print(\"Jordan form:\\n\", j)\n",
    "print(\"Eigenvectors:\\n\", v)\n"
   ]
  }
 ],
 "metadata": {
  "kernelspec": {
   "display_name": "py310",
   "language": "python",
   "name": "python3"
  },
  "language_info": {
   "codemirror_mode": {
    "name": "ipython",
    "version": 3
   },
   "file_extension": ".py",
   "mimetype": "text/x-python",
   "name": "python",
   "nbconvert_exporter": "python",
   "pygments_lexer": "ipython3",
   "version": "3.11.0"
  },
  "orig_nbformat": 4
 },
 "nbformat": 4,
 "nbformat_minor": 2
}
