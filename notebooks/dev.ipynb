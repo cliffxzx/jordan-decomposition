{
 "cells": [
  {
   "cell_type": "code",
   "execution_count": 20,
   "metadata": {},
   "outputs": [
    {
     "name": "stdout",
     "output_type": "stream",
     "text": [
      "Diagonal matrix:\n"
     ]
    },
    {
     "data": {
      "text/latex": [
       "$\\displaystyle \\left[\\begin{matrix}0 & 1 & 1 & 0\\\\1 & 1 & 1 & -1\\\\1 & 1 & 1 & 0\\\\1 & 1 & 0 & 1\\end{matrix}\\right]$"
      ],
      "text/plain": [
       "Matrix([\n",
       "[0, 1, 1,  0],\n",
       "[1, 1, 1, -1],\n",
       "[1, 1, 1,  0],\n",
       "[1, 1, 0,  1]])"
      ]
     },
     "metadata": {},
     "output_type": "display_data"
    },
    {
     "name": "stdout",
     "output_type": "stream",
     "text": [
      "Nilpotent matrix:\n"
     ]
    },
    {
     "data": {
      "text/latex": [
       "$\\displaystyle \\left[\\begin{matrix}-2 & 0 & 0 & 0\\\\0 & 3 & 0 & 0\\\\0 & 0 & 5 & 0\\\\0 & 0 & 0 & 5\\end{matrix}\\right]$"
      ],
      "text/plain": [
       "Matrix([\n",
       "[-2, 0, 0, 0],\n",
       "[ 0, 3, 0, 0],\n",
       "[ 0, 0, 5, 0],\n",
       "[ 0, 0, 0, 5]])"
      ]
     },
     "metadata": {},
     "output_type": "display_data"
    },
    {
     "data": {
      "text/latex": [
       "$\\displaystyle \\left[\\begin{matrix}3 & -2 & 4 & -2\\\\5 & 3 & -3 & -2\\\\5 & -2 & 2 & -2\\\\5 & -2 & -3 & 3\\end{matrix}\\right]$"
      ],
      "text/plain": [
       "Matrix([\n",
       "[3, -2,  4, -2],\n",
       "[5,  3, -3, -2],\n",
       "[5, -2,  2, -2],\n",
       "[5, -2, -3,  3]])"
      ]
     },
     "metadata": {},
     "output_type": "display_data"
    }
   ],
   "source": [
    "import os\n",
    "os.environ[\"XLA_PYTHON_CLIENT_PREALLOCATE\"]=\"false\"\n",
    "os.environ[\"XLA_PYTHON_CLIENT_MEM_FRACTION\"]=\".XX\"\n",
    "os.environ[\"XLA_PYTHON_CLIENT_ALLOCATOR\"]=\"platform\"\n",
    "\n",
    "import jax\n",
    "import jax.numpy as jnp\n",
    "import jax.scipy as jsp\n",
    "import sympy as sym\n",
    "\n",
    "jnp.set_printoptions(precision=2, suppress=True)\n",
    "\n",
    "def ColumnContact(M):\n",
    "    m = M.copy()\n",
    "    r = m[0]\n",
    "    for i in range(1,len(m)):\n",
    "        r = r.row_join(m[i])\n",
    "    return r\n",
    "\n",
    "def is_in_space(space,v):\n",
    "    S = space.copy()\n",
    "    vect = v.copy()\n",
    "    dim_S = len(S)\n",
    "    S.append(vect)\n",
    "    if ColumnContact(S).rank() > dim_S:\n",
    "        return False\n",
    "    return True\n",
    "\n",
    "def complementary(g,s):\n",
    "    G = g.copy()\n",
    "    S = s.copy()\n",
    "    dim_diff = len(G) - len(S)\n",
    "    R = []\n",
    "    for vect in G:\n",
    "        if len(R) == dim_diff:\n",
    "            return R\n",
    "        if not is_in_space(S,vect):\n",
    "            R.append(vect)\n",
    "    return R\n",
    "\n",
    "def null_space(A, eps=1e-12):\n",
    "    u, s, vh = jsp.linalg.svd(A)\n",
    "    padding = max(0,jnp.shape(A)[1]-jnp.shape(s)[0])\n",
    "    null_mask = jnp.concatenate(((s <= eps), jnp.ones((padding,),dtype=bool)),axis=0)\n",
    "    null_space = jnp.compress(null_mask, vh, axis=0)\n",
    "    return jnp.transpose(null_space)\n",
    "        \n",
    "def jordan_decomposition(A, B):\n",
    "    n = A.shape[0]\n",
    "    evs = A.eigenvects()\n",
    "    # _, evs = jnp.linalg.eig(B)\n",
    "    num = len(evs)\n",
    "    \n",
    "    list_of_eigenvalues = [vals[0] for vals in evs]\n",
    "    d_list_of_eigenvalues = jnp.linalg.eig(B)[0]\n",
    "    list_of_algebraic = [vals[1] for vals in evs]\n",
    "    list_of_matrices = [A - r * sym.eye(n) for r in list_of_eigenvalues]\n",
    "    d_list_of_matrices = [B - r * jnp.eye(n) for r in d_list_of_eigenvalues]\n",
    "    list_of_genmatrices = [(A - list_of_eigenvalues[i] * sym.eye(n)) ** list_of_algebraic[i] for i in range(num)]\n",
    "    d_list_of_genmatrices = [B - d_list_of_eigenvalues[0] * jnp.eye(n) for i in range(num)]\n",
    "    list_of_spaces = [M.nullspace() for M in list_of_matrices]\n",
    "    d_list_of_spaces = [null_space(M) for M in d_list_of_matrices]\n",
    "    list_of_genspaces = [M.nullspace() for M in list_of_genmatrices]\n",
    "    d_list_of_genspaces = [null_space(M) for M in d_list_of_genmatrices]\n",
    "    list_of_transform = []\n",
    "\n",
    "    for k in range(num):\n",
    "        \n",
    "        phi = list_of_matrices[k]\n",
    "        eigspace = list_of_spaces[k]\n",
    "        genspace = list_of_genspaces[k]\n",
    "        d_eigspace = d_list_of_spaces[k]\n",
    "        d_genspace = d_list_of_genspaces[k]\n",
    "        complement = complementary(genspace, eigspace)\n",
    "        list_of_vij = []\n",
    "        i = 1\n",
    "        \n",
    "        while len(complement) > 0:\n",
    "            j = 1\n",
    "            list_of_bunch = []\n",
    "            vect = complement[0]\n",
    "            while not is_in_space(list_of_spaces[k], vect):\n",
    "                list_of_bunch.insert(0, vect)\n",
    "                vect = phi * vect \n",
    "                j = j + 1\n",
    "            eigspace = complementary(eigspace, [vect])\n",
    "            complement = complementary(complement, list_of_bunch)\n",
    "            list_of_bunch.insert(0, vect)\n",
    "            list_of_vij.extend(list_of_bunch)\n",
    "            i = i + 1\n",
    "            \n",
    "        if len(eigspace)>0:\n",
    "            list_of_vij.extend(eigspace)\n",
    "                \n",
    "        list_of_transform.extend(list_of_vij)            \n",
    "        \n",
    "    P = ColumnContact(list_of_transform)\n",
    "    J = sym.Inverse(P)*A*P\n",
    "    return P, J\n",
    "\n",
    "\n",
    "A = sym.Matrix([[3, -2, 4, -2], [5, 3, -3, -2], [5, -2, 2, -2], [5, -2, -3, 3]])\n",
    "B = jnp.array([[3, -2, 4, -2], [5, 3, -3, -2], [5, -2, 2, -2], [5, -2, -3, 3]])\n",
    "\n",
    "P, J = jordan_decomposition(A, B)\n",
    "print(\"Diagonal matrix:\")\n",
    "display(P)\n",
    "print(\"Nilpotent matrix:\")\n",
    "display(J)\n",
    "display(P*J*P.inv())"
   ]
  }
 ],
 "metadata": {
  "kernelspec": {
   "display_name": "py311",
   "language": "python",
   "name": "python3"
  },
  "language_info": {
   "codemirror_mode": {
    "name": "ipython",
    "version": 3
   },
   "file_extension": ".py",
   "mimetype": "text/x-python",
   "name": "python",
   "nbconvert_exporter": "python",
   "pygments_lexer": "ipython3",
   "version": "3.11.0"
  },
  "orig_nbformat": 4
 },
 "nbformat": 4,
 "nbformat_minor": 2
}
