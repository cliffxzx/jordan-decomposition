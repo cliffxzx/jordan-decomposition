{
 "cells": [
  {
   "cell_type": "code",
   "execution_count": 2,
   "metadata": {},
   "outputs": [],
   "source": [
    "from sympy import *\n",
    "from sympy.polys.matrices import DomainMatrix\n",
    "from sympy.polys.factortools import dup_factor_list\n",
    "from sympy.polys.agca.extensions import FiniteExtension\n",
    "from functools import reduce\n",
    "\n",
    "\n",
    "def basic_cols(A):\n",
    "    \"\"\"Find basic columns of $A$ that spans $R(A)$ by gaussian elimination\"\"\"\n",
    "    _, pivots = A.rref()\n",
    "    basic_cols = [A[:, p] for p in pivots]\n",
    "    return reduce(DomainMatrix.hstack, basic_cols)\n",
    "\n",
    "\n",
    "def basic_cols_independent(A, B):\n",
    "    \"\"\"Find basic columns of $B$ that are linearly independent of the columns of $A$\"\"\"\n",
    "    temp = A.hstack(B)\n",
    "    _, pivots = temp.rref()\n",
    "    basic_cols = [temp[:, p] for p in pivots if p >= A.shape[1]]\n",
    "    if basic_cols:\n",
    "        return reduce(DomainMatrix.hstack, basic_cols)\n",
    "    return DomainMatrix.zeros((A.shape[0], 0), A.domain)\n",
    "\n",
    "\n",
    "def particular_solution(A, b):\n",
    "    \"\"\"Find a particular solution $x$ of $A x = b$ by gaussian elimination if $b \\in R(A)$\"\"\"\n",
    "    aug = A.hstack(b)\n",
    "    rref, pivots = aug.rref()\n",
    "    sol = {}\n",
    "    for i, j in enumerate(pivots):\n",
    "        if j >= A.shape[1]:\n",
    "            continue\n",
    "        sol[j] = {0: rref[i, -1].element}\n",
    "    return DomainMatrix(sol, (A.shape[1], 1), b.domain)\n",
    "\n",
    "\n",
    "def intersection_basis(A, B):\n",
    "    \"\"\"Compute the basis of $N(A) \\cap R(B)$\"\"\"\n",
    "    X = basic_cols(B)\n",
    "    V = (A * X).nullspace().transpose()\n",
    "    return X * V\n",
    "    \n",
    "\n",
    "def jordan_chain(L, x, i):\n",
    "    \"\"\"Compute the jordan chain $L^{i-1} x, \\cdots, L x, x$\"\"\"\n",
    "    jordan_chain = [x]\n",
    "    for k in range(i):\n",
    "        jordan_chain.append(L * jordan_chain[-1])\n",
    "    jordan_chain.reverse()\n",
    "    jordan_chain = reduce(DomainMatrix.hstack, jordan_chain)\n",
    "    return jordan_chain\n",
    "\n",
    "\n",
    "def rank(A):\n",
    "    \"\"\"Compute the matrix rank\"\"\"\n",
    "    _, pivots = A.rref()\n",
    "    return len(pivots)\n",
    "\n",
    "\n",
    "def jordan_form(A):\n",
    "    \"\"\"Compute jordan structure of DomainMatrix\"\"\"\n",
    "    charpoly = A.charpoly()\n",
    "    n, _ = A.shape\n",
    "    domain = A.domain\n",
    "    _, factors = dup_factor_list(charpoly, domain)\n",
    "    l = Symbol('lambda')\n",
    "    \n",
    "    algebraic_jordan_structure = []\n",
    "    for base, exp in factors:\n",
    "        mod = Poly.from_list(base, l, domain=domain)\n",
    "        extension = FiniteExtension(mod)\n",
    "        \n",
    "        # Set $L = A - \\lambda I$\n",
    "        L = A.convert_to(extension) - extension(l) * DomainMatrix.eye(n, extension)\n",
    "        \n",
    "        # Find nilpotent index\n",
    "        for k in range(n):\n",
    "            if rank(L**k) == rank(L**(k + 1)):\n",
    "                break\n",
    "        \n",
    "        # Compute the list $S_0, \\cdots, S_{k-1}$ where\n",
    "        # $S_{k-1} = R(L^{k-1}) \\cap N(L)$\n",
    "        # $S_{k-1} \\cup S_{k-2} = R(L^{k-2}) \\cap N(L)$\n",
    "        # $\\vdots$\n",
    "        # $S_{k-1} \\cup S_{k-2} \\cup \\cdots \\cup S_{1} = R(L) \\cap N(L)$\n",
    "        # $S_{k-1} \\cup S_{k-2} \\cup \\cdots \\cup S_{1} \\cup S_{0} = N(L)$\n",
    "        S_list = [intersection_basis(L, L**(k - 1))]\n",
    "        for i in range(1, k):\n",
    "            BV = intersection_basis(L, L**(k - i - 1))\n",
    "            Y = reduce(DomainMatrix.hstack, S_list)\n",
    "            S = basic_cols_independent(Y, BV)\n",
    "            S_list.append(S)\n",
    "        S_list.reverse()\n",
    "        \n",
    "        # Build jordan chains with respect to each generalized eigenvectors\n",
    "        # By solving $L^{i} x = b$ for each $b \\in S_{i}$\n",
    "        # And build jordan chain $L^{i-1} x, \\cdots, L x, x$\n",
    "        jordan_chains = []\n",
    "        for i, S in reversed(tuple(enumerate(S_list))):\n",
    "            for j in range(S.shape[1]):\n",
    "                x = particular_solution(L**i, S[:, j])\n",
    "                jordan_chains.append(jordan_chain(L, x, i))\n",
    "\n",
    "        algebraic_jordan_structure.append((extension, mod, jordan_chains))\n",
    "    return algebraic_jordan_structure\n",
    "\n",
    "\n",
    "def jordan_form_to_sympy(algebraic_jordan_structure):\n",
    "    \"\"\"Convert the result of the jordan structure to sympy matrix\"\"\"\n",
    "    J = []\n",
    "    P = []\n",
    "    for extension, mod, jordan_chains in algebraic_jordan_structure:\n",
    "        l = mod.gens[0]\n",
    "        degree = mod.degree()\n",
    "        \n",
    "        eigenvals = roots(mod, l)\n",
    "        if len(eigenvals) != degree:\n",
    "            eigenvals = [CRootOf(mod, l, idx) for idx in range(degree)]\n",
    "\n",
    "        jordan_chains = [jordan_chain.to_Matrix() for jordan_chain in jordan_chains]\n",
    "        for eigenval in eigenvals:\n",
    "            for jordan_chain in jordan_chains:\n",
    "                jordan_chain = jordan_chain.xreplace({l: eigenval})\n",
    "                P.append(jordan_chain)\n",
    "                jordan_block = Matrix.jordan_block(jordan_chain.shape[1], eigenval)\n",
    "                J.append(jordan_block)\n",
    "                \n",
    "    P = Matrix.hstack(*P)\n",
    "    J = BlockDiagMatrix(*J).as_explicit()\n",
    "    return P, J\n",
    "\n",
    "\n",
    "def DOM_jordan_form(A):\n",
    "    A = DomainMatrix.from_Matrix(A)\n",
    "    A = A.to_field()\n",
    "    algebraic_jordan_structure = jordan_form(A)\n",
    "    P, J = jordan_form_to_sympy(algebraic_jordan_structure)\n",
    "    return P, J"
   ]
  },
  {
   "cell_type": "code",
   "execution_count": 4,
   "metadata": {},
   "outputs": [
    {
     "name": "stdout",
     "output_type": "stream",
     "text": [
      "Diagonal matrix:\n"
     ]
    },
    {
     "data": {
      "text/latex": [
       "$\\displaystyle \\left[\\begin{matrix}\\frac{1}{11} & - \\frac{3}{11} & 1 & -1 & -1 & 0 & -1 & 0\\\\- \\frac{4}{11} & \\frac{1}{11} & 0 & 1 & 0 & 0 & 0 & 0\\\\\\frac{4}{11} & - \\frac{1}{11} & -1 & 0 & 2 & 0 & 0 & 0\\\\- \\frac{4}{11} & \\frac{1}{11} & -1 & 1 & 1 & 1 & 1 & 0\\\\\\frac{5}{11} & - \\frac{4}{11} & 0 & -1 & 0 & 0 & 1 & 0\\\\- \\frac{7}{11} & \\frac{10}{11} & -1 & 1 & 0 & 0 & 0 & 1\\\\1 & 0 & 0 & -1 & 0 & -1 & 0 & 0\\\\0 & 1 & -1 & 0 & 0 & 0 & 1 & 0\\end{matrix}\\right]$"
      ],
      "text/plain": [
       "Matrix([\n",
       "[ 1/11, -3/11,  1, -1, -1,  0, -1, 0],\n",
       "[-4/11,  1/11,  0,  1,  0,  0,  0, 0],\n",
       "[ 4/11, -1/11, -1,  0,  2,  0,  0, 0],\n",
       "[-4/11,  1/11, -1,  1,  1,  1,  1, 0],\n",
       "[ 5/11, -4/11,  0, -1,  0,  0,  1, 0],\n",
       "[-7/11, 10/11, -1,  1,  0,  0,  0, 1],\n",
       "[    1,     0,  0, -1,  0, -1,  0, 0],\n",
       "[    0,     1, -1,  0,  0,  0,  1, 0]])"
      ]
     },
     "metadata": {},
     "output_type": "display_data"
    },
    {
     "name": "stdout",
     "output_type": "stream",
     "text": [
      "Nilpotent matrix:\n"
     ]
    },
    {
     "data": {
      "text/latex": [
       "$\\displaystyle \\left[\\begin{matrix}1 & 0 & 0 & 0 & 0 & 0 & 0 & 0\\\\0 & 1 & 0 & 0 & 0 & 0 & 0 & 0\\\\0 & 0 & 0 & 1 & 0 & 0 & 0 & 0\\\\0 & 0 & 0 & 0 & 1 & 0 & 0 & 0\\\\0 & 0 & 0 & 0 & 0 & 0 & 0 & 0\\\\0 & 0 & 0 & 0 & 0 & -1 & 1 & 0\\\\0 & 0 & 0 & 0 & 0 & 0 & -1 & 0\\\\0 & 0 & 0 & 0 & 0 & 0 & 0 & -1\\end{matrix}\\right]$"
      ],
      "text/plain": [
       "Matrix([\n",
       "[1, 0, 0, 0, 0,  0,  0,  0],\n",
       "[0, 1, 0, 0, 0,  0,  0,  0],\n",
       "[0, 0, 0, 1, 0,  0,  0,  0],\n",
       "[0, 0, 0, 0, 1,  0,  0,  0],\n",
       "[0, 0, 0, 0, 0,  0,  0,  0],\n",
       "[0, 0, 0, 0, 0, -1,  1,  0],\n",
       "[0, 0, 0, 0, 0,  0, -1,  0],\n",
       "[0, 0, 0, 0, 0,  0,  0, -1]])"
      ]
     },
     "metadata": {},
     "output_type": "display_data"
    },
    {
     "data": {
      "text/latex": [
       "$\\displaystyle \\left[\\begin{matrix}-4 & -5 & -3 & 1 & -2 & 0 & 1 & -2\\\\4 & 7 & 3 & -1 & 3 & 0 & -1 & 2\\\\0 & -1 & 0 & 0 & 0 & 0 & 0 & 0\\\\-1 & 1 & 2 & -4 & 2 & 0 & -3 & 1\\\\-8 & -14 & -5 & 1 & -6 & 0 & 1 & -4\\\\4 & 7 & 4 & -3 & 3 & -1 & -3 & 4\\\\2 & -2 & -2 & 5 & -3 & 0 & 4 & -1\\\\6 & 7 & 3 & 0 & 2 & 0 & 0 & 3\\end{matrix}\\right]$"
      ],
      "text/plain": [
       "Matrix([\n",
       "[-4,  -5, -3,  1, -2,  0,  1, -2],\n",
       "[ 4,   7,  3, -1,  3,  0, -1,  2],\n",
       "[ 0,  -1,  0,  0,  0,  0,  0,  0],\n",
       "[-1,   1,  2, -4,  2,  0, -3,  1],\n",
       "[-8, -14, -5,  1, -6,  0,  1, -4],\n",
       "[ 4,   7,  4, -3,  3, -1, -3,  4],\n",
       "[ 2,  -2, -2,  5, -3,  0,  4, -1],\n",
       "[ 6,   7,  3,  0,  2,  0,  0,  3]])"
      ]
     },
     "metadata": {},
     "output_type": "display_data"
    }
   ],
   "source": [
    "A = Matrix([\n",
    "    [-4, -5, -3, 1, -2, 0, 1, -2],\n",
    "    [4, 7, 3, -1, 3, 0, -1, 2],\n",
    "    [0, -1, 0, 0, 0, 0, 0, 0],\n",
    "    [-1, 1, 2, -4, 2, 0, -3, 1],\n",
    "    [-8, -14, -5, 1, -6, 0, 1, -4],\n",
    "    [4, 7, 4, -3, 3, -1, -3, 4],\n",
    "    [2, -2, -2, 5, -3, 0, 4, -1],\n",
    "    [6, 7, 3, 0, 2, 0, 0, 3]])\n",
    "\n",
    "P, J = DOM_jordan_form(A)\n",
    "print(\"Diagonal matrix:\")\n",
    "display(P)\n",
    "print(\"Nilpotent matrix:\")\n",
    "display(J)\n",
    "display(P*J*P.inv())"
   ]
  }
 ],
 "metadata": {
  "kernelspec": {
   "display_name": "jordan-decomposition-1FTfkCrW",
   "language": "python",
   "name": "python3"
  },
  "language_info": {
   "codemirror_mode": {
    "name": "ipython",
    "version": 3
   },
   "file_extension": ".py",
   "mimetype": "text/x-python",
   "name": "python",
   "nbconvert_exporter": "python",
   "pygments_lexer": "ipython3",
   "version": "3.11.0"
  },
  "orig_nbformat": 4
 },
 "nbformat": 4,
 "nbformat_minor": 2
}
